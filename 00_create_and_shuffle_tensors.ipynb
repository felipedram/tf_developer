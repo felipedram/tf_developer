{
  "nbformat": 4,
  "nbformat_minor": 0,
  "metadata": {
    "colab": {
      "provenance": [],
      "authorship_tag": "ABX9TyOIVkE0mWFxJDvDVhFpjx5o",
      "include_colab_link": true
    },
    "kernelspec": {
      "name": "python3",
      "display_name": "Python 3"
    },
    "language_info": {
      "name": "python"
    }
  },
  "cells": [
    {
      "cell_type": "markdown",
      "metadata": {
        "id": "view-in-github",
        "colab_type": "text"
      },
      "source": [
        "<a href=\"https://colab.research.google.com/github/felipedram/tf_developer/blob/main/00_create_and_shuffle_tensors.ipynb\" target=\"_parent\"><img src=\"https://colab.research.google.com/assets/colab-badge.svg\" alt=\"Open In Colab\"/></a>"
      ]
    },
    {
      "cell_type": "code",
      "execution_count": 2,
      "metadata": {
        "colab": {
          "base_uri": "https://localhost:8080/",
          "height": 36
        },
        "id": "roClD9nlPMC1",
        "outputId": "9278e7b1-5b9a-4f8a-d279-b5522f12ef7d"
      },
      "outputs": [
        {
          "output_type": "execute_result",
          "data": {
            "text/plain": [
              "'2.15.0'"
            ],
            "application/vnd.google.colaboratory.intrinsic+json": {
              "type": "string"
            }
          },
          "metadata": {},
          "execution_count": 2
        }
      ],
      "source": [
        "import tensorflow as tf\n",
        "tf.__version__"
      ]
    },
    {
      "cell_type": "markdown",
      "source": [
        "## Começar pelo começo"
      ],
      "metadata": {
        "id": "O_ZjYo5SQrmI"
      }
    },
    {
      "cell_type": "code",
      "source": [
        "constant_1 = tf.constant(1)  # function\n",
        "variable_1 = tf.Variable(1)  # Class\n",
        "constant_1, variable_1"
      ],
      "metadata": {
        "colab": {
          "base_uri": "https://localhost:8080/"
        },
        "id": "YI4JqApYPZDC",
        "outputId": "d57721fc-cc1b-4105-b94d-1c22774ad7ce"
      },
      "execution_count": 5,
      "outputs": [
        {
          "output_type": "execute_result",
          "data": {
            "text/plain": [
              "(<tf.Tensor: shape=(), dtype=int32, numpy=1>,\n",
              " <tf.Variable 'Variable:0' shape=() dtype=int32, numpy=1>)"
            ]
          },
          "metadata": {},
          "execution_count": 5
        }
      ]
    },
    {
      "cell_type": "code",
      "source": [
        "variable_1.assign(10)\n",
        "variable_1"
      ],
      "metadata": {
        "colab": {
          "base_uri": "https://localhost:8080/"
        },
        "id": "mJW0f2SERjym",
        "outputId": "21331ab9-ed39-49f8-fddc-61ff88a41853"
      },
      "execution_count": 7,
      "outputs": [
        {
          "output_type": "execute_result",
          "data": {
            "text/plain": [
              "<tf.Variable 'Variable:0' shape=() dtype=int32, numpy=10>"
            ]
          },
          "metadata": {},
          "execution_count": 7
        }
      ]
    },
    {
      "cell_type": "markdown",
      "source": [
        "### Criar tensores aleatórios"
      ],
      "metadata": {
        "id": "e9yhAN1FQ_yq"
      }
    },
    {
      "cell_type": "code",
      "source": [
        "tf.random.set_seed(42)  # Global seed. Garante mesma sequência a cada execução do programa."
      ],
      "metadata": {
        "id": "X1psp-KCX_1z"
      },
      "execution_count": null,
      "outputs": []
    },
    {
      "cell_type": "markdown",
      "source": [
        "Mais sobre global vs operation seed em https://www.tensorflow.org/api_docs/python/tf/random/set_seed"
      ],
      "metadata": {
        "id": "IRso_HXnZBU3"
      }
    },
    {
      "cell_type": "markdown",
      "source": [
        "#### Distribuição Uniforme"
      ],
      "metadata": {
        "id": "uggLp-VEVhWs"
      }
    },
    {
      "cell_type": "code",
      "source": [
        "uniform_1 = tf.random.Generator.from_seed(42) # Opeeration-level seed\n",
        "uniform_1 = uniform_1.uniform((2,5))\n",
        "\n",
        "\n",
        "uniform_2 = tf.random.Generator.from_seed(42) # Opeeration-level seed\n",
        "uniform_2 = uniform_2.uniform((2,5))\n",
        "\n",
        "uniform_1, uniform_2"
      ],
      "metadata": {
        "colab": {
          "base_uri": "https://localhost:8080/"
        },
        "id": "W07uZh-vQpkx",
        "outputId": "6679e6e7-321f-49db-a406-2307e8e7e13f"
      },
      "execution_count": 12,
      "outputs": [
        {
          "output_type": "execute_result",
          "data": {
            "text/plain": [
              "(<tf.Tensor: shape=(2, 5), dtype=float32, numpy=\n",
              " array([[0.7493447 , 0.73561966, 0.45230794, 0.49039817, 0.1889317 ],\n",
              "        [0.52027524, 0.8736881 , 0.46921718, 0.63932586, 0.6467117 ]],\n",
              "       dtype=float32)>,\n",
              " <tf.Tensor: shape=(2, 5), dtype=float32, numpy=\n",
              " array([[0.7493447 , 0.73561966, 0.45230794, 0.49039817, 0.1889317 ],\n",
              "        [0.52027524, 0.8736881 , 0.46921718, 0.63932586, 0.6467117 ]],\n",
              "       dtype=float32)>)"
            ]
          },
          "metadata": {},
          "execution_count": 12
        }
      ]
    },
    {
      "cell_type": "code",
      "source": [
        "uniform_1 == uniform_2"
      ],
      "metadata": {
        "colab": {
          "base_uri": "https://localhost:8080/"
        },
        "id": "s7-b7dcrUd6T",
        "outputId": "4ae39a29-03ea-4ade-ad9e-c3f7cc5c0919"
      },
      "execution_count": 15,
      "outputs": [
        {
          "output_type": "execute_result",
          "data": {
            "text/plain": [
              "<tf.Tensor: shape=(2, 5), dtype=bool, numpy=\n",
              "array([[ True,  True,  True,  True,  True],\n",
              "       [ True,  True,  True,  True,  True]])>"
            ]
          },
          "metadata": {},
          "execution_count": 15
        }
      ]
    },
    {
      "cell_type": "code",
      "source": [
        "uniform_3 = tf.random.uniform((2, 5))\n",
        "uniform_4 = tf.random.uniform((2, 5))\n",
        "\n",
        "uniform_3, uniform_4"
      ],
      "metadata": {
        "colab": {
          "base_uri": "https://localhost:8080/"
        },
        "id": "WuDK6yutTjei",
        "outputId": "6b630b31-646b-481a-b329-8350eecce606"
      },
      "execution_count": 16,
      "outputs": [
        {
          "output_type": "execute_result",
          "data": {
            "text/plain": [
              "(<tf.Tensor: shape=(2, 5), dtype=float32, numpy=\n",
              " array([[0.28384602, 0.99616015, 0.44106638, 0.9444777 , 0.41346908],\n",
              "        [0.39854956, 0.84879243, 0.89907336, 0.53077674, 0.28820622]],\n",
              "       dtype=float32)>,\n",
              " <tf.Tensor: shape=(2, 5), dtype=float32, numpy=\n",
              " array([[0.63083315, 0.639995  , 0.96908   , 0.89969385, 0.18036759],\n",
              "        [0.61852896, 0.75754595, 0.32295966, 0.79459894, 0.09791148]],\n",
              "       dtype=float32)>)"
            ]
          },
          "metadata": {},
          "execution_count": 16
        }
      ]
    },
    {
      "cell_type": "code",
      "source": [
        "uniform_3 == uniform_4"
      ],
      "metadata": {
        "colab": {
          "base_uri": "https://localhost:8080/"
        },
        "id": "DdlgqYnqVYHb",
        "outputId": "041f09ae-9bf8-45cc-d902-ad82960313af"
      },
      "execution_count": 17,
      "outputs": [
        {
          "output_type": "execute_result",
          "data": {
            "text/plain": [
              "<tf.Tensor: shape=(2, 5), dtype=bool, numpy=\n",
              "array([[False, False, False, False, False],\n",
              "       [False, False, False, False, False]])>"
            ]
          },
          "metadata": {},
          "execution_count": 17
        }
      ]
    },
    {
      "cell_type": "markdown",
      "source": [
        "#### Distribuição normal"
      ],
      "metadata": {
        "id": "nL6nMmMKVmBS"
      }
    },
    {
      "cell_type": "code",
      "source": [
        "normal_1 = tf.random.normal((3, 4), seed=42)  # Outra forma de atribuir a operation-level seed\n",
        "normal_1"
      ],
      "metadata": {
        "colab": {
          "base_uri": "https://localhost:8080/"
        },
        "id": "TveSEc_VR1D4",
        "outputId": "0fa134dc-713f-4544-9101-3e95e41f3d99"
      },
      "execution_count": 10,
      "outputs": [
        {
          "output_type": "execute_result",
          "data": {
            "text/plain": [
              "<tf.Tensor: shape=(3, 4), dtype=float32, numpy=\n",
              "array([[-0.7565803 , -0.06854702,  0.07595026, -1.2573844 ],\n",
              "       [-0.23193763, -1.8107855 ,  0.09988727, -0.50998646],\n",
              "       [-0.7535805 , -0.57166284,  0.1480774 , -0.23362993]],\n",
              "      dtype=float32)>"
            ]
          },
          "metadata": {},
          "execution_count": 10
        }
      ]
    },
    {
      "cell_type": "markdown",
      "source": [
        "## Shuffle"
      ],
      "metadata": {
        "id": "LWl3SzXpSZ9l"
      }
    },
    {
      "cell_type": "code",
      "source": [
        "uniform_shuffled = tf.random.shuffle(uniform_1, seed=42)\n",
        "uniform_shuffled  # mantém a dimensão original"
      ],
      "metadata": {
        "colab": {
          "base_uri": "https://localhost:8080/"
        },
        "id": "bR2NFrJNSWzy",
        "outputId": "51bc7e9d-17e0-4a18-8591-f907cec42334"
      },
      "execution_count": 20,
      "outputs": [
        {
          "output_type": "execute_result",
          "data": {
            "text/plain": [
              "<tf.Tensor: shape=(2, 5), dtype=float32, numpy=\n",
              "array([[0.52027524, 0.8736881 , 0.46921718, 0.63932586, 0.6467117 ],\n",
              "       [0.7493447 , 0.73561966, 0.45230794, 0.49039817, 0.1889317 ]],\n",
              "      dtype=float32)>"
            ]
          },
          "metadata": {},
          "execution_count": 20
        }
      ]
    },
    {
      "cell_type": "code",
      "source": [
        "normal_shuffled = tf.random.shuffle(normal_1, seed=42)\n",
        "normal_shuffled  # mantém a dimensão original"
      ],
      "metadata": {
        "colab": {
          "base_uri": "https://localhost:8080/"
        },
        "id": "8ALQewkuZauZ",
        "outputId": "0ae9a611-c7fb-4b7c-b985-e4a5bf33afff"
      },
      "execution_count": 19,
      "outputs": [
        {
          "output_type": "execute_result",
          "data": {
            "text/plain": [
              "<tf.Tensor: shape=(3, 4), dtype=float32, numpy=\n",
              "array([[-0.7535805 , -0.57166284,  0.1480774 , -0.23362993],\n",
              "       [-0.23193763, -1.8107855 ,  0.09988727, -0.50998646],\n",
              "       [-0.7565803 , -0.06854702,  0.07595026, -1.2573844 ]],\n",
              "      dtype=float32)>"
            ]
          },
          "metadata": {},
          "execution_count": 19
        }
      ]
    },
    {
      "cell_type": "code",
      "source": [],
      "metadata": {
        "id": "_YPbCMyFZljb"
      },
      "execution_count": null,
      "outputs": []
    }
  ]
}